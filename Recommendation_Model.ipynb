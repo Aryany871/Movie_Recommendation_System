{
 "cells": [
  {
   "cell_type": "code",
   "execution_count": 1,
   "id": "sustained-elimination",
   "metadata": {},
   "outputs": [],
   "source": [
    "# import required libraries\n",
    "from pyspark.sql import SparkSession\n",
    "from pyspark.ml.evaluation import RegressionEvaluator\n",
    "from pyspark.ml.recommendation import ALS\n",
    "from pyspark import SparkConf"
   ]
  },
  {
   "cell_type": "code",
   "execution_count": 2,
   "id": "noble-segment",
   "metadata": {},
   "outputs": [],
   "source": [
    "# create a SparkSession\n",
    "conf = SparkConf().setAppName(\"ALS Recommendation System\") \\\n",
    "                  .set(\"spark.storage.memoryFraction\", \"0.8\")\n",
    "\n",
    "spark = SparkSession.builder.config(conf=conf).getOrCreate()\n"
   ]
  },
  {
   "cell_type": "code",
   "execution_count": 3,
   "id": "superior-shaft",
   "metadata": {},
   "outputs": [
    {
     "name": "stdout",
     "output_type": "stream",
     "text": [
      "+----+----+------+---------+\n",
      "|user|item|rating|timestamp|\n",
      "+----+----+------+---------+\n",
      "| 196| 242|     3|881250949|\n",
      "| 186| 302|     3|891717742|\n",
      "|  22| 377|     1|878887116|\n",
      "| 244|  51|     2|880606923|\n",
      "| 166| 346|     1|886397596|\n",
      "| 298| 474|     4|884182806|\n",
      "| 115| 265|     2|881171488|\n",
      "| 253| 465|     5|891628467|\n",
      "| 305| 451|     3|886324817|\n",
      "|   6|  86|     3|883603013|\n",
      "|  62| 257|     2|879372434|\n",
      "| 286|1014|     5|879781125|\n",
      "| 200| 222|     5|876042340|\n",
      "| 210|  40|     3|891035994|\n",
      "| 224|  29|     3|888104457|\n",
      "| 303| 785|     3|879485318|\n",
      "| 122| 387|     5|879270459|\n",
      "| 194| 274|     2|879539794|\n",
      "| 291|1042|     4|874834944|\n",
      "| 234|1184|     2|892079237|\n",
      "+----+----+------+---------+\n",
      "only showing top 20 rows\n",
      "\n"
     ]
    }
   ],
   "source": [
    "from pyspark.sql.functions import split\n",
    "\n",
    "# read the data file\n",
    "data = spark.read.format(\"csv\").load(r\"C:\\Users\\Aryan Yadav\\Desktop\\ml-100k\\u.data\")\n",
    "\n",
    "# split the values in each row by the delimiter\n",
    "data = data.select(split(\"_c0\", \"\\t\").alias(\"values\"))\n",
    "\n",
    "# expand the split values into columns\n",
    "data = data.selectExpr(\"values[0] as user\", \"values[1] as item\", \"values[2] as rating\", \"values[3] as timestamp\")\n",
    "\n",
    "# print the data\n",
    "data.show()\n"
   ]
  },
  {
   "cell_type": "code",
   "execution_count": 4,
   "id": "three-cooper",
   "metadata": {},
   "outputs": [
    {
     "name": "stdout",
     "output_type": "stream",
     "text": [
      "+----+----+------+---------+\n",
      "|user|item|rating|timestamp|\n",
      "+----+----+------+---------+\n",
      "| 196| 242|     3|881250949|\n",
      "| 186| 302|     3|891717742|\n",
      "|  22| 377|     1|878887116|\n",
      "| 244|  51|     2|880606923|\n",
      "| 166| 346|     1|886397596|\n",
      "| 298| 474|     4|884182806|\n",
      "| 115| 265|     2|881171488|\n",
      "| 253| 465|     5|891628467|\n",
      "| 305| 451|     3|886324817|\n",
      "|   6|  86|     3|883603013|\n",
      "|  62| 257|     2|879372434|\n",
      "| 286|1014|     5|879781125|\n",
      "| 200| 222|     5|876042340|\n",
      "| 210|  40|     3|891035994|\n",
      "| 224|  29|     3|888104457|\n",
      "| 303| 785|     3|879485318|\n",
      "| 122| 387|     5|879270459|\n",
      "| 194| 274|     2|879539794|\n",
      "| 291|1042|     4|874834944|\n",
      "| 234|1184|     2|892079237|\n",
      "+----+----+------+---------+\n",
      "only showing top 20 rows\n",
      "\n"
     ]
    }
   ],
   "source": [
    "from pyspark.sql.functions import col\n",
    "from pyspark.sql.types import IntegerType\n",
    "\n",
    "# assuming `data` is the DataFrame with columns to be cast to integer type\n",
    "data = data.select([col(c).cast(IntegerType()).alias(c) for c in data.columns])\n",
    "data.show()"
   ]
  },
  {
   "cell_type": "code",
   "execution_count": 5,
   "id": "blessed-terminal",
   "metadata": {},
   "outputs": [],
   "source": [
    "# split the data into training and testing datasets\n",
    "(training_data, test_data) = data.randomSplit([0.8, 0.2])"
   ]
  },
  {
   "cell_type": "code",
   "execution_count": 7,
   "id": "boolean-gilbert",
   "metadata": {},
   "outputs": [
    {
     "name": "stdout",
     "output_type": "stream",
     "text": [
      "+----+----+------+---------+\n",
      "|user|item|rating|timestamp|\n",
      "+----+----+------+---------+\n",
      "|   1|   3|     4|878542960|\n",
      "|   1|   7|     4|875071561|\n",
      "|   1|   9|     5|878543541|\n",
      "|   1|  13|     5|875071805|\n",
      "|   1|  20|     4|887431883|\n",
      "|   1|  26|     3|875072442|\n",
      "|   1|  41|     2|876892818|\n",
      "|   1|  46|     4|876893230|\n",
      "|   1|  48|     5|875072520|\n",
      "|   1|  51|     4|878543275|\n",
      "|   1|  55|     5|875072688|\n",
      "|   1|  56|     4|875072716|\n",
      "|   1|  64|     5|875072404|\n",
      "|   1|  66|     4|878543030|\n",
      "|   1|  69|     3|875072262|\n",
      "|   1|  70|     3|875072895|\n",
      "|   1|  93|     5|875071484|\n",
      "|   1|  98|     4|875072404|\n",
      "|   1|  99|     3|875072547|\n",
      "|   1| 113|     5|878542738|\n",
      "+----+----+------+---------+\n",
      "only showing top 20 rows\n",
      "\n"
     ]
    }
   ],
   "source": [
    "test_data.show()"
   ]
  },
  {
   "cell_type": "code",
   "execution_count": 8,
   "id": "scientific-military",
   "metadata": {},
   "outputs": [],
   "source": [
    "# build the ALS model:\n",
    "als = ALS(maxIter=10, regParam=0.1, userCol=\"user\", itemCol=\"item\", ratingCol=\"rating\", coldStartStrategy=\"drop\")\n",
    "model = als.fit(training_data)\n",
    "\n"
   ]
  },
  {
   "cell_type": "code",
   "execution_count": 9,
   "id": "suffering-hydrogen",
   "metadata": {},
   "outputs": [],
   "source": [
    "# generate predictions for the test data\n",
    "predictions = model.transform(test_data)\n"
   ]
  },
  {
   "cell_type": "code",
   "execution_count": 10,
   "id": "massive-novelty",
   "metadata": {},
   "outputs": [
    {
     "name": "stdout",
     "output_type": "stream",
     "text": [
      "Root-mean-square error = 0.9230259152120834\n"
     ]
    }
   ],
   "source": [
    "# evaluate the model using Root Mean Square Error (RMSE)\n",
    "evaluator = RegressionEvaluator(metricName=\"rmse\", labelCol=\"rating\",\n",
    "                                predictionCol=\"prediction\")\n",
    "rmse = evaluator.evaluate(predictions)\n",
    "print(\"Root-mean-square error = \" + str(rmse))\n"
   ]
  },
  {
   "cell_type": "code",
   "execution_count": 11,
   "id": "beautiful-portal",
   "metadata": {},
   "outputs": [
    {
     "name": "stdout",
     "output_type": "stream",
     "text": [
      "+----+--------------------+\n",
      "|user|     recommendations|\n",
      "+----+--------------------+\n",
      "|   1|[{1463, 5.0894566...|\n",
      "|   3|[{1643, 5.085789}...|\n",
      "|   5|[{793, 4.7600174}...|\n",
      "|   6|[{1463, 5.1076016...|\n",
      "|   9|[{1463, 5.3891687...|\n",
      "|  12|[{113, 5.3132577}...|\n",
      "|  13|[{1463, 4.976876}...|\n",
      "|  15|[{1242, 5.438542}...|\n",
      "|  16|[{1467, 5.586324}...|\n",
      "|  17|[{1589, 4.6193986...|\n",
      "|  19|[{793, 5.016589},...|\n",
      "|  20|[{1278, 4.11146},...|\n",
      "|  22|[{169, 5.0118}, {...|\n",
      "|  26|[{1463, 4.3604927...|\n",
      "|  27|[{313, 3.8850806}...|\n",
      "|  28|[{1467, 4.878327}...|\n",
      "|  31|[{1368, 5.3423915...|\n",
      "|  34|[{1512, 6.616613}...|\n",
      "|  35|[{776, 3.9237242}...|\n",
      "|  37|[{1449, 4.760874}...|\n",
      "+----+--------------------+\n",
      "only showing top 20 rows\n",
      "\n"
     ]
    }
   ],
   "source": [
    "# use the trained model to generate recommendations for all users\n",
    "userRecs = model.recommendForAllUsers(10)\n",
    "userRecs.show()"
   ]
  },
  {
   "cell_type": "code",
   "execution_count": 12,
   "id": "aging-cooling",
   "metadata": {},
   "outputs": [
    {
     "name": "stdout",
     "output_type": "stream",
     "text": [
      "Row(item=1463, rating=4.89435338973999)\n",
      "Row(item=113, rating=4.843940734863281)\n",
      "Row(item=1449, rating=4.747164726257324)\n",
      "Row(item=169, rating=4.6523118019104)\n",
      "Row(item=408, rating=4.606603622436523)\n",
      "Row(item=516, rating=4.595702171325684)\n",
      "Row(item=1122, rating=4.579644680023193)\n",
      "Row(item=1642, rating=4.571200847625732)\n",
      "Row(item=64, rating=4.566840171813965)\n",
      "Row(item=316, rating=4.562083721160889)\n"
     ]
    }
   ],
   "source": [
    "# generate top 10 recommendations for a specific user\n",
    "user_id = 25\n",
    "userRecs = model.recommendForAllUsers(10).filter(f\"user = {user_id}\").select(\"recommendations\").collect()[0][0]\n",
    "\n",
    "# output all recommendations for the user\n",
    "for rec in userRecs:\n",
    "    print(rec)"
   ]
  },
  {
   "cell_type": "code",
   "execution_count": 13,
   "id": "loose-flooring",
   "metadata": {},
   "outputs": [
    {
     "name": "stdout",
     "output_type": "stream",
     "text": [
      "Kept row with movieId: 1463\n",
      "Kept row with movieId: 113\n",
      "Kept row with movieId: 1449\n",
      "Removed row with movieId: 169\n",
      "Removed row with movieId: 408\n",
      "Kept row with movieId: 516\n",
      "Kept row with movieId: 1122\n",
      "Kept row with movieId: 1642\n",
      "Kept row with movieId: 64\n",
      "Kept row with movieId: 316\n"
     ]
    }
   ],
   "source": [
    "# filter out recommendations already rated/watched by user\n",
    "movieIds = [rec.item for rec in data.rdd.collect() if rec.user == user_id]\n",
    "\n",
    "for row in userRecs:\n",
    "    if row[0] in movieIds:\n",
    "        userRecs = [row for row in userRecs if row[0] not in movieIds]\n",
    "        print(\"Removed row with movieId:\", row[0])\n",
    "    else:\n",
    "        print(\"Kept row with movieId:\", row[0])"
   ]
  },
  {
   "cell_type": "code",
   "execution_count": 14,
   "id": "fundamental-funds",
   "metadata": {},
   "outputs": [
    {
     "name": "stdout",
     "output_type": "stream",
     "text": [
      "Row(item=1463, rating=4.89435338973999)\n",
      "Row(item=113, rating=4.843940734863281)\n",
      "Row(item=1449, rating=4.747164726257324)\n",
      "Row(item=516, rating=4.595702171325684)\n",
      "Row(item=1122, rating=4.579644680023193)\n",
      "Row(item=1642, rating=4.571200847625732)\n",
      "Row(item=64, rating=4.566840171813965)\n",
      "Row(item=316, rating=4.562083721160889)\n"
     ]
    }
   ],
   "source": [
    "# print updated recommendations for user_id \n",
    "for rec in userRecs:\n",
    "    print(rec)\n"
   ]
  },
  {
   "cell_type": "code",
   "execution_count": 15,
   "id": "thick-pennsylvania",
   "metadata": {},
   "outputs": [
    {
     "name": "stdout",
     "output_type": "stream",
     "text": [
      "1: Toy Story (1995)\n",
      "2: GoldenEye (1995)\n",
      "3: Four Rooms (1995)\n",
      "4: Get Shorty (1995)\n",
      "5: Copycat (1995)\n",
      "6: Shanghai Triad (Yao a yao yao dao waipo qiao) (1995)\n",
      "7: Twelve Monkeys (1995)\n",
      "8: Babe (1995)\n",
      "9: Dead Man Walking (1995)\n",
      "10: Richard III (1995)\n",
      "11: Seven (Se7en) (1995)\n",
      "12: Usual Suspects\n",
      "13: Mighty Aphrodite (1995)\n",
      "14: Postino\n",
      "15: Mr. Holland's Opus (1995)\n",
      "16: French Twist (Gazon maudit) (1995)\n",
      "17: From Dusk Till Dawn (1996)\n",
      "18: White Balloon\n",
      "19: Antonia's Line (1995)\n",
      "20: Angels and Insects (1995)\n"
     ]
    }
   ],
   "source": [
    "# read the movie data file\n",
    "movieData = spark.read.format(\"csv\").load(r\"C:\\Users\\Aryan Yadav\\Desktop\\ml-100k\\u.item\")\n",
    "\n",
    "# split the values in each row by the delimiter\n",
    "movieData = movieData.select(split(movieData._c0, \"\\|\").alias(\"values\"))\n",
    "\n",
    "#create a dictionary with {movieId : movieName} as entries\n",
    "movie_list = movieData.collect()\n",
    "movie_dict = {}\n",
    "\n",
    "for row in movie_list:\n",
    "    movie_id = row.values[0]\n",
    "    movie_name = row.values[1]\n",
    "    movie_dict[int(movie_id)] = movie_name\n",
    "    \n",
    "\n",
    "# print the first 20 items in the dictionary\n",
    "for i, (movie_id, movie_name) in enumerate(movie_dict.items()):\n",
    "    print(f\"{movie_id}: {movie_name}\")\n",
    "    if i == 19:\n",
    "        break\n"
   ]
  },
  {
   "cell_type": "code",
   "execution_count": 16,
   "id": "precious-engine",
   "metadata": {},
   "outputs": [
    {
     "name": "stdout",
     "output_type": "stream",
     "text": [
      "  User  Movie Recommended                 Predicted Rating\n",
      "------  ------------------------------  ------------------\n",
      "    25  Boys                                       4.89435\n",
      "    25  Horseman on the Roof                       4.84394\n",
      "    25  Pather Panchali (1955)                     4.74716\n",
      "    25  Local Hero (1983)                          4.5957\n",
      "    25  They Made Me a Criminal (1939)             4.57964\n",
      "    25  Some Mother's Son (1996)                   4.5712\n",
      "    25  Shawshank Redemption                       4.56684\n",
      "    25  As Good As It Gets (1997)                  4.56208\n"
     ]
    }
   ],
   "source": [
    "# generate top 10 recommendations for a specific user along with movie names\n",
    "from tabulate import tabulate  \n",
    "table_data = []\n",
    "\n",
    "for rec in userRecs:\n",
    "    movieId = rec[0]\n",
    "    rating = rec[1]\n",
    "    if movieId in movie_dict:\n",
    "        movie_name = movie_dict[movieId]\n",
    "        table_data.append([user_id, movie_name, rating])\n",
    "\n",
    "print(tabulate(table_data, headers=[\"User\", \"Movie Recommended\", \"Predicted Rating\"]))"
   ]
  },
  {
   "cell_type": "code",
   "execution_count": null,
   "id": "outstanding-spider",
   "metadata": {},
   "outputs": [],
   "source": []
  }
 ],
 "metadata": {
  "kernelspec": {
   "display_name": "Python 3",
   "language": "python",
   "name": "python3"
  },
  "language_info": {
   "codemirror_mode": {
    "name": "ipython",
    "version": 3
   },
   "file_extension": ".py",
   "mimetype": "text/x-python",
   "name": "python",
   "nbconvert_exporter": "python",
   "pygments_lexer": "ipython3",
   "version": "3.9.0"
  }
 },
 "nbformat": 4,
 "nbformat_minor": 5
}
